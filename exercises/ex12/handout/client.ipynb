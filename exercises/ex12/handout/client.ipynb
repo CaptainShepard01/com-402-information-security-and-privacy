{
 "cells": [
  {
   "cell_type": "code",
   "id": "c36b6b347f427429",
   "metadata": {
    "ExecuteTime": {
     "end_time": "2024-12-11T13:15:37.757041Z",
     "start_time": "2024-12-11T13:15:37.699304Z"
    }
   },
   "source": [
    "from random import random\n",
    "\n",
    "import numpy as np\n",
    "from phe import paillier\n",
    "import requests"
   ],
   "outputs": [],
   "execution_count": 68
  },
  {
   "metadata": {
    "ExecuteTime": {
     "end_time": "2024-12-11T12:56:43.411653Z",
     "start_time": "2024-12-11T12:56:43.342041Z"
    }
   },
   "cell_type": "code",
   "source": [
    "PRECISION = 2**(-16)\n",
    "EXPONENT = -8\n",
    "\n",
    "public_key, private_key = paillier.generate_paillier_keypair()\n",
    "\n",
    "def get_encrypted_data(x, public_key):\n",
    "    encrypted_x = [public_key.encrypt(i, precision=PRECISION) for i in x]\n",
    "    encrypted_x = [i.ciphertext() for i in encrypted_x]\n",
    "    return encrypted_x"
   ],
   "id": "e9d64e34e1e74685",
   "outputs": [],
   "execution_count": 40
  },
  {
   "metadata": {
    "ExecuteTime": {
     "end_time": "2024-12-11T12:56:44.333291Z",
     "start_time": "2024-12-11T12:56:44.328502Z"
    }
   },
   "cell_type": "code",
   "source": [
    "def query_pred(x):\n",
    "    url = \"http://localhost:8000/prediction\"\n",
    "    encrypted_x = get_encrypted_data(x, public_key)\n",
    "    response = requests.post(url, json={\n",
    "        \"pub_key_n\": public_key.n,\n",
    "        \"enc_feature_vector\": encrypted_x\n",
    "    })\n",
    "    \n",
    "    if response.status_code == 200:\n",
    "        return private_key.decrypt(paillier.EncryptedNumber(public_key, response.json()['enc_prediction'], EXPONENT))\n",
    "    else:\n",
    "        return response.text"
   ],
   "id": "d13b96e04669a1b9",
   "outputs": [],
   "execution_count": 41
  },
  {
   "metadata": {
    "ExecuteTime": {
     "end_time": "2024-12-11T13:01:13.068390Z",
     "start_time": "2024-12-11T13:01:12.982244Z"
    }
   },
   "cell_type": "code",
   "source": [
    "secret_number_list = [3.141592653, 300, -4.6e-12]\n",
    "encrypted_number_list = [public_key.encrypt(x, precision=PRECISION) for x in secret_number_list]\n",
    "\n",
    "encrypted_number_list = [i.ciphertext() for i in encrypted_number_list]\n",
    "\n",
    "exponent = -4\n",
    "encrypted_number_list = [paillier.EncryptedNumber(public_key, i, exponent) for i in encrypted_number_list]\n",
    "\n",
    "print([private_key.decrypt(i) for i in encrypted_number_list])\n",
    "\n",
    "# What you can see in terminal is, close to secret_number_list, but limited by precision.\n",
    "# >>> [3.1415863037109375, 300.0, 0.0]"
   ],
   "id": "415ac16d6a1abecb",
   "outputs": [
    {
     "name": "stdout",
     "output_type": "stream",
     "text": [
      "[3.1415863037109375, 300.0, 0.0]\n"
     ]
    }
   ],
   "execution_count": 47
  },
  {
   "metadata": {
    "collapsed": true,
    "ExecuteTime": {
     "end_time": "2024-12-11T13:01:13.960426Z",
     "start_time": "2024-12-11T13:01:13.503417Z"
    }
   },
   "cell_type": "code",
   "source": [
    "assert 2**(-16) > abs(query_pred([0.48555949, 0.29289251, 0.63463107,\n",
    "                                  0.41933057, 0.78672205, 0.58910837,\n",
    "                                  0.00739207, 0.31390802, 0.37037496,\n",
    "                                  0.3375726 ]) - 0.44812144746653826)"
   ],
   "id": "initial_id",
   "outputs": [],
   "execution_count": 48
  },
  {
   "metadata": {
    "ExecuteTime": {
     "end_time": "2024-12-11T13:35:10.813205Z",
     "start_time": "2024-12-11T13:35:10.805977Z"
    }
   },
   "cell_type": "code",
   "source": [
    "from random import random\n",
    "\n",
    "def steal_weights(dim=10):\n",
    "    url = \"http://localhost:8000/prediction\"\n",
    "    \n",
    "    # Get bias\n",
    "    zeros = [0.0 for _ in range(10)]\n",
    "    encrypted_zeros = get_encrypted_data(zeros, public_key)\n",
    "    b = private_key.decrypt(paillier.EncryptedNumber(public_key, requests.post(url, json={\n",
    "        \"pub_key_n\": public_key.n,\n",
    "        \"enc_feature_vector\": encrypted_zeros\n",
    "    }).json()['enc_prediction'], EXPONENT))\n",
    "\n",
    "    # Get weights\n",
    "    random_features = [[random() for _ in range(10)] for _ in range(dim)]\n",
    "    responses = []\n",
    "    \n",
    "    for req in random_features:\n",
    "        encrypted_req = get_encrypted_data(req, public_key)\n",
    "        response = requests.post(url, json={\n",
    "            \"pub_key_n\": public_key.n,\n",
    "            \"enc_feature_vector\": encrypted_req\n",
    "        })\n",
    "        if response.status_code == 200:\n",
    "            responses.append(private_key.decrypt(paillier.EncryptedNumber(public_key, response.json()['enc_prediction'], EXPONENT)))\n",
    "        else:\n",
    "            print(response.text)\n",
    "            return None, None\n",
    "            \n",
    "    if len(responses) == dim:\n",
    "        features = np.array(random_features)\n",
    "        labels = np.array(responses) - b\n",
    "        \n",
    "        weights = np.linalg.pinv(features) @ labels\n",
    "        \n",
    "        return weights, b"
   ],
   "id": "d4ddb49375901115",
   "outputs": [],
   "execution_count": 101
  },
  {
   "metadata": {
    "ExecuteTime": {
     "end_time": "2024-12-11T13:36:37.998068Z",
     "start_time": "2024-12-11T13:36:32.686277Z"
    }
   },
   "cell_type": "code",
   "source": [
    "req = [0.48555949, 0.29289251, 0.63463107, 0.41933057, 0.78672205, 0.58910837, 0.00739207, 0.31390802, 0.37037496, 0.3375726]\n",
    "\n",
    "weights, b = steal_weights()\n",
    "local_computation = weights @ np.array(req) + b\n",
    "\n",
    "server_computation = query_pred(req)\n",
    "\n",
    "assert local_computation - server_computation < 1e-5"
   ],
   "id": "8cbd4bc4ae2ebe6b",
   "outputs": [],
   "execution_count": 105
  }
 ],
 "metadata": {
  "kernelspec": {
   "display_name": "Python 3",
   "language": "python",
   "name": "python3"
  },
  "language_info": {
   "codemirror_mode": {
    "name": "ipython",
    "version": 2
   },
   "file_extension": ".py",
   "mimetype": "text/x-python",
   "name": "python",
   "nbconvert_exporter": "python",
   "pygments_lexer": "ipython2",
   "version": "2.7.6"
  }
 },
 "nbformat": 4,
 "nbformat_minor": 5
}
